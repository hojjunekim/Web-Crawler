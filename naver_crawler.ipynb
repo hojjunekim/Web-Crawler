{
 "cells": [
  {
   "cell_type": "code",
   "execution_count": 1,
   "metadata": {},
   "outputs": [],
   "source": [
    "from selenium import webdriver\n",
    "from bs4 import BeautifulSoup as bs\n",
    "import time\n",
    "from selenium.webdriver.common.keys import Keys\n",
    "from selenium.webdriver import ActionChains\n",
    "import requests\n",
    "import csv\n",
    "import openpyxl"
   ]
  },
  {
   "cell_type": "code",
   "execution_count": 2,
   "metadata": {},
   "outputs": [],
   "source": [
    "import gc\n",
    "import konlpy\n",
    "from konlpy.tag import Kkma, Okt, Komoran\n",
    "from pprint import pprint\n",
    "from collections import Counter\n",
    "from sklearn.feature_extraction.text import CountVectorizer\n",
    "from sklearn.feature_extraction.text import TfidfTransformer"
   ]
  },
  {
   "cell_type": "code",
   "execution_count": 6,
   "metadata": {
    "scrolled": true
   },
   "outputs": [
    {
     "name": "stdout",
     "output_type": "stream",
     "text": [
      "20 blogs completed\n",
      "40 blogs completed\n",
      "60 blogs completed\n",
      "80 blogs completed\n",
      "100 blogs completed\n",
      "120 blogs completed\n",
      "140 blogs completed\n",
      "160 blogs completed\n",
      "180 blogs completed\n",
      "200 blogs completed\n",
      "220 blogs completed\n",
      "240 blogs completed\n",
      "260 blogs completed\n",
      "280 blogs completed\n",
      "300 blogs completed\n",
      "320 blogs completed\n",
      "340 blogs completed\n"
     ]
    },
    {
     "ename": "NoSuchWindowException",
     "evalue": "Message: no such window: window was already closed\n  (Session info: chrome=86.0.4240.193)\n",
     "output_type": "error",
     "traceback": [
      "\u001b[0;31m---------------------------------------------------------------------------\u001b[0m",
      "\u001b[0;31mNoSuchWindowException\u001b[0m                     Traceback (most recent call last)",
      "\u001b[0;32m<ipython-input-6-e4dcb770b89e>\u001b[0m in \u001b[0;36m<module>\u001b[0;34m\u001b[0m\n\u001b[1;32m     89\u001b[0m \u001b[0mtest\u001b[0m\u001b[0;34m=\u001b[0m  \u001b[0;34m[\u001b[0m\u001b[0;34m'맥주 안주'\u001b[0m\u001b[0;34m]\u001b[0m\u001b[0;31m#, '그랜드하얏트', 'JW메리어트', '르메르디앙', '콘래드', '반얀트리', '인터컨티넨탈', '쉐라톤', '힐튼', '블루보틀']\u001b[0m\u001b[0;34m\u001b[0m\u001b[0;34m\u001b[0m\u001b[0m\n\u001b[1;32m     90\u001b[0m \u001b[0;34m\u001b[0m\u001b[0m\n\u001b[0;32m---> 91\u001b[0;31m \u001b[0mresult\u001b[0m \u001b[0;34m=\u001b[0m \u001b[0mget_information\u001b[0m\u001b[0;34m(\u001b[0m\u001b[0mtest\u001b[0m\u001b[0;34m)\u001b[0m\u001b[0;34m\u001b[0m\u001b[0;34m\u001b[0m\u001b[0m\n\u001b[0m",
      "\u001b[0;32m<ipython-input-6-e4dcb770b89e>\u001b[0m in \u001b[0;36mget_information\u001b[0;34m(name_of_item)\u001b[0m\n\u001b[1;32m     83\u001b[0m \u001b[0;34m\u001b[0m\u001b[0m\n\u001b[1;32m     84\u001b[0m \u001b[0;34m\u001b[0m\u001b[0m\n\u001b[0;32m---> 85\u001b[0;31m     \u001b[0mtext_list\u001b[0m \u001b[0;34m=\u001b[0m \u001b[0mgetting_url\u001b[0m\u001b[0;34m(\u001b[0m\u001b[0mname_of_item\u001b[0m\u001b[0;34m,\u001b[0m\u001b[0;36m500\u001b[0m\u001b[0;34m)\u001b[0m\u001b[0;34m\u001b[0m\u001b[0;34m\u001b[0m\u001b[0m\n\u001b[0m\u001b[1;32m     86\u001b[0m     \u001b[0mresult\u001b[0m \u001b[0;34m=\u001b[0m \u001b[0mtxt_mining\u001b[0m\u001b[0;34m(\u001b[0m\u001b[0mtext_list\u001b[0m\u001b[0;34m)\u001b[0m\u001b[0;34m\u001b[0m\u001b[0;34m\u001b[0m\u001b[0m\n\u001b[1;32m     87\u001b[0m     \u001b[0;32mreturn\u001b[0m \u001b[0mresult\u001b[0m\u001b[0;34m\u001b[0m\u001b[0;34m\u001b[0m\u001b[0m\n",
      "\u001b[0;32m<ipython-input-6-e4dcb770b89e>\u001b[0m in \u001b[0;36mgetting_url\u001b[0;34m(places, rank)\u001b[0m\n\u001b[1;32m     28\u001b[0m         \u001b[0mtexts\u001b[0m \u001b[0;34m=\u001b[0m \u001b[0;34m[\u001b[0m\u001b[0;34m]\u001b[0m\u001b[0;34m\u001b[0m\u001b[0;34m\u001b[0m\u001b[0m\n\u001b[1;32m     29\u001b[0m         \u001b[0;32mfor\u001b[0m \u001b[0mi\u001b[0m \u001b[0;32min\u001b[0m \u001b[0mrange\u001b[0m\u001b[0;34m(\u001b[0m\u001b[0;36m1\u001b[0m\u001b[0;34m,\u001b[0m\u001b[0mrank\u001b[0m\u001b[0;34m+\u001b[0m\u001b[0;36m1\u001b[0m\u001b[0;34m)\u001b[0m\u001b[0;34m:\u001b[0m\u001b[0;34m\u001b[0m\u001b[0;34m\u001b[0m\u001b[0m\n\u001b[0;32m---> 30\u001b[0;31m             \u001b[0msoup\u001b[0m \u001b[0;34m=\u001b[0m \u001b[0mbs\u001b[0m\u001b[0;34m(\u001b[0m\u001b[0mdriver\u001b[0m\u001b[0;34m.\u001b[0m\u001b[0mpage_source\u001b[0m\u001b[0;34m,\u001b[0m \u001b[0;34m'html.parser'\u001b[0m\u001b[0;34m)\u001b[0m\u001b[0;34m\u001b[0m\u001b[0;34m\u001b[0m\u001b[0m\n\u001b[0m\u001b[1;32m     31\u001b[0m             \u001b[0misearch\u001b[0m \u001b[0;34m=\u001b[0m \u001b[0msoup\u001b[0m\u001b[0;34m.\u001b[0m\u001b[0mfind\u001b[0m\u001b[0;34m(\u001b[0m\u001b[0;34m'li'\u001b[0m\u001b[0;34m,\u001b[0m \u001b[0;34m{\u001b[0m\u001b[0;34m'id'\u001b[0m\u001b[0;34m:\u001b[0m \u001b[0;34mf'sp_blog_{i}'\u001b[0m\u001b[0;34m}\u001b[0m\u001b[0;34m)\u001b[0m\u001b[0;34m\u001b[0m\u001b[0;34m\u001b[0m\u001b[0m\n\u001b[1;32m     32\u001b[0m             \u001b[0;32mif\u001b[0m \u001b[0mi\u001b[0m\u001b[0;34m%\u001b[0m\u001b[0;36m20\u001b[0m\u001b[0;34m==\u001b[0m\u001b[0;36m0\u001b[0m\u001b[0;34m:\u001b[0m\u001b[0;34m\u001b[0m\u001b[0;34m\u001b[0m\u001b[0m\n",
      "\u001b[0;32m/opt/anaconda3/envs/crawling/lib/python3.8/site-packages/selenium/webdriver/remote/webdriver.py\u001b[0m in \u001b[0;36mpage_source\u001b[0;34m(self)\u001b[0m\n\u001b[1;32m    677\u001b[0m             \u001b[0mdriver\u001b[0m\u001b[0;34m.\u001b[0m\u001b[0mpage_source\u001b[0m\u001b[0;34m\u001b[0m\u001b[0;34m\u001b[0m\u001b[0m\n\u001b[1;32m    678\u001b[0m         \"\"\"\n\u001b[0;32m--> 679\u001b[0;31m         \u001b[0;32mreturn\u001b[0m \u001b[0mself\u001b[0m\u001b[0;34m.\u001b[0m\u001b[0mexecute\u001b[0m\u001b[0;34m(\u001b[0m\u001b[0mCommand\u001b[0m\u001b[0;34m.\u001b[0m\u001b[0mGET_PAGE_SOURCE\u001b[0m\u001b[0;34m)\u001b[0m\u001b[0;34m[\u001b[0m\u001b[0;34m'value'\u001b[0m\u001b[0;34m]\u001b[0m\u001b[0;34m\u001b[0m\u001b[0;34m\u001b[0m\u001b[0m\n\u001b[0m\u001b[1;32m    680\u001b[0m \u001b[0;34m\u001b[0m\u001b[0m\n\u001b[1;32m    681\u001b[0m     \u001b[0;32mdef\u001b[0m \u001b[0mclose\u001b[0m\u001b[0;34m(\u001b[0m\u001b[0mself\u001b[0m\u001b[0;34m)\u001b[0m\u001b[0;34m:\u001b[0m\u001b[0;34m\u001b[0m\u001b[0;34m\u001b[0m\u001b[0m\n",
      "\u001b[0;32m/opt/anaconda3/envs/crawling/lib/python3.8/site-packages/selenium/webdriver/remote/webdriver.py\u001b[0m in \u001b[0;36mexecute\u001b[0;34m(self, driver_command, params)\u001b[0m\n\u001b[1;32m    319\u001b[0m         \u001b[0mresponse\u001b[0m \u001b[0;34m=\u001b[0m \u001b[0mself\u001b[0m\u001b[0;34m.\u001b[0m\u001b[0mcommand_executor\u001b[0m\u001b[0;34m.\u001b[0m\u001b[0mexecute\u001b[0m\u001b[0;34m(\u001b[0m\u001b[0mdriver_command\u001b[0m\u001b[0;34m,\u001b[0m \u001b[0mparams\u001b[0m\u001b[0;34m)\u001b[0m\u001b[0;34m\u001b[0m\u001b[0;34m\u001b[0m\u001b[0m\n\u001b[1;32m    320\u001b[0m         \u001b[0;32mif\u001b[0m \u001b[0mresponse\u001b[0m\u001b[0;34m:\u001b[0m\u001b[0;34m\u001b[0m\u001b[0;34m\u001b[0m\u001b[0m\n\u001b[0;32m--> 321\u001b[0;31m             \u001b[0mself\u001b[0m\u001b[0;34m.\u001b[0m\u001b[0merror_handler\u001b[0m\u001b[0;34m.\u001b[0m\u001b[0mcheck_response\u001b[0m\u001b[0;34m(\u001b[0m\u001b[0mresponse\u001b[0m\u001b[0;34m)\u001b[0m\u001b[0;34m\u001b[0m\u001b[0;34m\u001b[0m\u001b[0m\n\u001b[0m\u001b[1;32m    322\u001b[0m             response['value'] = self._unwrap_value(\n\u001b[1;32m    323\u001b[0m                 response.get('value', None))\n",
      "\u001b[0;32m/opt/anaconda3/envs/crawling/lib/python3.8/site-packages/selenium/webdriver/remote/errorhandler.py\u001b[0m in \u001b[0;36mcheck_response\u001b[0;34m(self, response)\u001b[0m\n\u001b[1;32m    240\u001b[0m                 \u001b[0malert_text\u001b[0m \u001b[0;34m=\u001b[0m \u001b[0mvalue\u001b[0m\u001b[0;34m[\u001b[0m\u001b[0;34m'alert'\u001b[0m\u001b[0;34m]\u001b[0m\u001b[0;34m.\u001b[0m\u001b[0mget\u001b[0m\u001b[0;34m(\u001b[0m\u001b[0;34m'text'\u001b[0m\u001b[0;34m)\u001b[0m\u001b[0;34m\u001b[0m\u001b[0;34m\u001b[0m\u001b[0m\n\u001b[1;32m    241\u001b[0m             \u001b[0;32mraise\u001b[0m \u001b[0mexception_class\u001b[0m\u001b[0;34m(\u001b[0m\u001b[0mmessage\u001b[0m\u001b[0;34m,\u001b[0m \u001b[0mscreen\u001b[0m\u001b[0;34m,\u001b[0m \u001b[0mstacktrace\u001b[0m\u001b[0;34m,\u001b[0m \u001b[0malert_text\u001b[0m\u001b[0;34m)\u001b[0m\u001b[0;34m\u001b[0m\u001b[0;34m\u001b[0m\u001b[0m\n\u001b[0;32m--> 242\u001b[0;31m         \u001b[0;32mraise\u001b[0m \u001b[0mexception_class\u001b[0m\u001b[0;34m(\u001b[0m\u001b[0mmessage\u001b[0m\u001b[0;34m,\u001b[0m \u001b[0mscreen\u001b[0m\u001b[0;34m,\u001b[0m \u001b[0mstacktrace\u001b[0m\u001b[0;34m)\u001b[0m\u001b[0;34m\u001b[0m\u001b[0;34m\u001b[0m\u001b[0m\n\u001b[0m\u001b[1;32m    243\u001b[0m \u001b[0;34m\u001b[0m\u001b[0m\n\u001b[1;32m    244\u001b[0m     \u001b[0;32mdef\u001b[0m \u001b[0m_value_or_default\u001b[0m\u001b[0;34m(\u001b[0m\u001b[0mself\u001b[0m\u001b[0;34m,\u001b[0m \u001b[0mobj\u001b[0m\u001b[0;34m,\u001b[0m \u001b[0mkey\u001b[0m\u001b[0;34m,\u001b[0m \u001b[0mdefault\u001b[0m\u001b[0;34m)\u001b[0m\u001b[0;34m:\u001b[0m\u001b[0;34m\u001b[0m\u001b[0;34m\u001b[0m\u001b[0m\n",
      "\u001b[0;31mNoSuchWindowException\u001b[0m: Message: no such window: window was already closed\n  (Session info: chrome=86.0.4240.193)\n"
     ]
    }
   ],
   "source": [
    "try:\n",
    "    wb = openpyxl.load_workbook(\"/Users/hojjunekim/Desktop/navernews.xlsx\")\n",
    "    sheet = wb.active\n",
    "    print(\"불러오기 완료\")\n",
    "except:\n",
    "    wb = openpyxl.Workbook()\n",
    "    sheet = wb.active\n",
    "    \n",
    "chromedriver = '/usr/local/bin/chromedriver'\n",
    "driver = webdriver.Chrome(chromedriver)\n",
    "\n",
    "def get_information(name_of_item):\n",
    "\n",
    "    def getting_url(places,rank):\n",
    "        \n",
    "        \n",
    "        driver.get('https://www.naver.com')\n",
    "        time.sleep(0.5)\n",
    "        search = driver.find_element_by_xpath('//*[@id=\"query\"]')\n",
    "        search_key = places[0]\n",
    "        search.send_keys(search_key)\n",
    "        search.send_keys(Keys.ENTER)\n",
    "        time.sleep(0.5)\n",
    "        url = driver.current_url\n",
    "        url = url.replace('where=nexearch', 'where=blog')\n",
    "        driver.get(url)\n",
    "        #links = []\n",
    "        texts = []\n",
    "        for i in range(1,rank+1):\n",
    "            soup = bs(driver.page_source, 'html.parser')\n",
    "            isearch = soup.find('li', {'id': f'sp_blog_{i}'})\n",
    "            if i%20==0:\n",
    "                driver.execute_script(\"window.scrollTo(0, document.body.scrollHeight);\")\n",
    "                time.sleep(0.5)\n",
    "                print(i, 'blogs completed')\n",
    "            #link = isearch.find('a', {'class': 'total_tit'})['href']\n",
    "            #links.append(link)\n",
    "            txt = isearch.find('a', {'class': 'total_tit'}).text #'dsc_txt'}).text\n",
    "            texts.append(txt[:-4])\n",
    "        print(texts)\n",
    "        return texts\n",
    "    \n",
    "        #return links\n",
    "        \n",
    "    def txt_mining(sents):\n",
    "        komoran = Komoran()\n",
    "        token = [pos for sent in sents for pos in komoran.pos(sent)]\n",
    "        \n",
    "        counter = Counter(token)\n",
    "        counted_dic = {}\n",
    "        for word, freq in counter.items():\n",
    "            if freq >= 4 and word[1][:1] == 'N':\n",
    "                counted_dic[word] = freq\n",
    "        print(sorted(counted_dic.items(), key=lambda x: x[1], reverse=True))\n",
    "        return counted_dic\n",
    "        \n",
    "        \n",
    "    text_list = getting_url(name_of_item,500)\n",
    "    result = txt_mining(text_list)\n",
    "    return result\n",
    "\n",
    "test=  ['맥주 안주']#, '그랜드하얏트', 'JW메리어트', '르메르디앙', '콘래드', '반얀트리', '인터컨티넨탈', '쉐라톤', '힐튼', '블루보틀']\n",
    "\n",
    "result = get_information(test)"
   ]
  },
  {
   "cell_type": "code",
   "execution_count": 2,
   "metadata": {
    "scrolled": true
   },
   "outputs": [
    {
     "ename": "NameError",
     "evalue": "name 'result' is not defined",
     "output_type": "error",
     "traceback": [
      "\u001b[0;31m---------------------------------------------------------------------------\u001b[0m",
      "\u001b[0;31mNameError\u001b[0m                                 Traceback (most recent call last)",
      "\u001b[0;32m<ipython-input-2-1ab2738dd7e7>\u001b[0m in \u001b[0;36m<module>\u001b[0;34m\u001b[0m\n\u001b[1;32m      1\u001b[0m \u001b[0;32mdef\u001b[0m \u001b[0mf1\u001b[0m\u001b[0;34m(\u001b[0m\u001b[0mx\u001b[0m\u001b[0;34m)\u001b[0m\u001b[0;34m:\u001b[0m\u001b[0;34m\u001b[0m\u001b[0;34m\u001b[0m\u001b[0m\n\u001b[1;32m      2\u001b[0m     \u001b[0;32mreturn\u001b[0m \u001b[0mx\u001b[0m\u001b[0;34m[\u001b[0m\u001b[0;36m1\u001b[0m\u001b[0;34m]\u001b[0m\u001b[0;34m\u001b[0m\u001b[0;34m\u001b[0m\u001b[0m\n\u001b[0;32m----> 3\u001b[0;31m \u001b[0mprint\u001b[0m\u001b[0;34m(\u001b[0m\u001b[0msorted\u001b[0m\u001b[0;34m(\u001b[0m\u001b[0mresult\u001b[0m\u001b[0;34m.\u001b[0m\u001b[0mitems\u001b[0m\u001b[0;34m(\u001b[0m\u001b[0;34m)\u001b[0m\u001b[0;34m,\u001b[0m \u001b[0mkey\u001b[0m\u001b[0;34m=\u001b[0m\u001b[0mf1\u001b[0m\u001b[0;34m,\u001b[0m \u001b[0mreverse\u001b[0m\u001b[0;34m=\u001b[0m\u001b[0;32mTrue\u001b[0m\u001b[0;34m)\u001b[0m\u001b[0;34m)\u001b[0m\u001b[0;34m\u001b[0m\u001b[0;34m\u001b[0m\u001b[0m\n\u001b[0m",
      "\u001b[0;31mNameError\u001b[0m: name 'result' is not defined"
     ]
    }
   ],
   "source": [
    "def f1(x):\n",
    "    return x[1]\n",
    "print(sorted(result.items(), key=f1, reverse=True))"
   ]
  },
  {
   "cell_type": "code",
   "execution_count": 33,
   "metadata": {},
   "outputs": [
    {
     "name": "stdout",
     "output_type": "stream",
     "text": [
      "{('키즈', 'NNG'): 20, ('아기', 'NNP'): 803, ('신발', 'NNP'): 957, ('부분', 'NNG'): 12, ('쿠션', 'NNP'): 4, ('감', 'NNG'): 6, ('을', 'NNG'): 10, ('때', 'NNG'): 77, ('뒤', 'NNG'): 6, ('방지', 'NNG'): 13, ('로', 'NNG'): 10, ('이', 'NNP'): 17, ('유아', 'NNP'): 36, ('슈즈', 'NNG'): 41, ('바닥', 'NNP'): 4, ('중인', 'NNP'): 4, ('미니', 'NNP'): 10, ('위즈', 'NNP'): 4, ('신발', 'NNG'): 241, ('디자인', 'NNP'): 28, ('백일', 'NNG'): 13, ('선물', 'NNP'): 62, ('저', 'NP'): 18, ('저희', 'NP'): 8, ('아기', 'NNG'): 203, ('아띠빠스', 'NA'): 14, ('걸음마', 'NNG'): 163, ('방법', 'NNG'): 6, ('앞', 'NNG'): 7, ('어린이집', 'NNP'): 7, ('언니', 'NNG'): 9, ('중', 'NNB'): 11, ('크록스', 'NA'): 4, ('우리', 'NP'): 47, ('ㅋㅋ', 'NA'): 19, ('옷', 'NNG'): 32, ('!!!', 'NNP'): 7, ('구두', 'NNP'): 11, ('돌', 'NNP'): 100, ('전', 'NNP'): 9, ('필요', 'NNG'): 5, ('것', 'NNB'): 69, ('오늘', 'NNG'): 9, ('그동안', 'NNG'): 7, ('뜨개질', 'NNP'): 7, ('완성', 'NNG'): 15, ('글', 'NNG'): 11, ('위', 'NNG'): 8, ('사진', 'NNG'): 14, ('수', 'NNB'): 54, ('발', 'NNG'): 55, ('이건', 'NNP'): 4, ('겨울', 'NNG'): 11, ('듯', 'NNB'): 14, ('안정', 'NNG'): 5, ('정리', 'NNG'): 8, ('하나', 'NR'): 28, ('둘', 'NR'): 5, ('내', 'NP'): 22, ('꼬맘슈', 'NA'): 6, ('빔', 'NNG'): 7, ('추천', 'NNG'): 40, ('상상', 'NNG'): 5, ('주문', 'NNG'): 10, ('사이즈', 'NNG'): 94, ('수업', 'NNG'): 4, ('때문', 'NNB'): 7, ('성장', 'NNG'): 4, ('생각', 'NNG'): 17, ('첫걸음', 'NNG'): 4, ('운동화', 'NNP'): 49, ('팁', 'NNG'): 40, ('토이', 'NNP'): 37, ('조이', 'NNP'): 51, ('아웃', 'NNP'): 4, ('솔', 'NNG'): 6, ('신', 'NNG'): 53, ('날', 'NNG'): 8, ('ㅎㅎ', 'NA'): 17, ('고민', 'NNG'): 16, ('건', 'NNB'): 8, ('구입', 'NNG'): 14, ('가죽', 'NNP'): 16, ('공방', 'NNG'): 4, ('원', 'NNB'): 4, ('우리', 'NNP'): 14, ('바', 'NNB'): 4, ('인', 'NNG'): 6, ('스타', 'NNP'): 8, ('가방', 'NNP'): 7, ('핑크', 'NNP'): 15, ('신고', 'NNP'): 38, ('시간', 'NNP'): 5, ('모자', 'NNP'): 13, ('준비', 'NNG'): 32, ('건강', 'NNG'): 7, ('아이', 'NNG'): 25, ('출산', 'NNG'): 4, ('착용', 'NNG'): 4, ('사용', 'NNG'): 19, ('여름', 'NNG'): 19, ('끝', 'NNG'): 4, ('눈', 'NNG'): 6, ('편안', 'NNG'): 17, ('거', 'NNB'): 48, ('아들', 'NNG'): 10, ('여기', 'NP'): 4, ('샷', 'NNG'): 4, ('볼', 'NNG'): 6, ('게', 'NNG'): 5, ('개월', 'NNB'): 41, ('선택', 'NNG'): 16, ('사실', 'NNG'): 13, ('이', 'NP'): 12, ('돌', 'NNG'): 9, ('우', 'NNP'): 8, ('가지', 'NNB'): 12, ('컬러', 'NNP'): 5, ('여름', 'NNP'): 16, ('뉴발란스', 'NNP'): 5, ('집', 'NNG'): 14, ('살', 'NNB'): 4, ('구매', 'NNG'): 21, ('!!', 'NNP'): 25, ('마다', 'NNP'): 5, ('봄', 'NNG'): 8, ('켤레', 'NNP'): 9, ('사랑', 'NNG'): 10, ('꽃', 'NNG'): 4, ('연습', 'NNG'): 13, ('지인', 'NNP'): 6, ('선물', 'NNG'): 46, ('베이비', 'NNP'): 8, ('스니커즈', 'NNP'): 4, ('느낌', 'NNG'): 6, ('보행기', 'NNP'): 37, ('아이들', 'NNP'): 10, ('보니', 'NNP'): 8, ('상자', 'NNG'): 4, ('줄', 'NNB'): 5, ('나', 'NP'): 8, ('아', 'NNP'): 31, ('장', 'NNP'): 31, ('모습', 'NNG'): 6, ('패턴', 'NNP'): 5, ('분', 'NNB'): 12, ('.com', 'NNP'): 5, ('후기', 'NNG'): 9, ('르', 'NNG'): 5, ('소리', 'NNG'): 4, ('데', 'NNB'): 6, ('소띠', 'NNG'): 4, ('년', 'NNB'): 5, ('작품', 'NNG'): 4, ('제작', 'NNG'): 7, ('키트', 'NNP'): 6, ('도안', 'NNP'): 20, ('코', 'NNG'): 29, ('바늘', 'NNP'): 34, ('덧', 'NNG'): 10, ('손', 'NNG'): 13, ('뜨개', 'NNG'): 17, ('리본', 'NNP'): 9, ('출산', 'NNP'): 7, ('아래', 'NNG'): 7, ('포', 'NNG'): 9, ('스팅', 'NNP'): 9, ('제품', 'NNG'): 16, ('제공', 'NNG'): 4, ('작성', 'NNG'): 5, ('양말', 'NNP'): 40, ('멜리사', 'NNP'): 6, ('샌들', 'NNP'): 13, ('친구', 'NNG'): 9, ('여자', 'NNG'): 11, ('참고', 'NNG'): 6, ('무게', 'NNP'): 4, ('안녕하세요', 'NNP'): 10, ('흰쥐', 'NNG'): 4, ('띠', 'NNG'): 8, ('맘', 'NNG'): 23, ('무엇', 'NP'): 6, ('핸드', 'NNP'): 7, ('메이드', 'NNG'): 7, ('신발장', 'NNP'): 5, ('베베', 'NNP'): 5, ('처음', 'NNG'): 22, ('정도', 'NNP'): 4, ('태교', 'NNP'): 31, ('드', 'NNP'): 11, ('소', 'NNP'): 9, ('밴드', 'NNP'): 5, ('걷기', 'NNP'): 11, ('시작', 'NNG'): 22, ('번', 'NNB'): 28, ('포장', 'NNP'): 7, ('세탁', 'NNG'): 7, ('마음', 'NNG'): 15, ('육아', 'NNG'): 21, ('첫째', 'NR'): 6, ('외출', 'NNG'): 7, ('백', 'NNP'): 4, ('넘', 'NNG'): 15, ('아가', 'NNP'): 8, ('브랜드', 'NNP'): 12, ('아디다스', 'NNP'): 20, ('나이키', 'NNP'): 15, ('블랙', 'NNP'): 5, ('엄마', 'NNG'): 29, ('미키', 'NNP'): 5, ('하우스', 'NNP'): 4, ('갑', 'NNG'): 4, ('어디', 'NP'): 5, ('창', 'NNG'): 13, ('이번', 'NNG'): 22, ('경우', 'NNG'): 4, ('예', 'NNG'): 12, ('안', 'NNG'): 10, ('등', 'NNB'): 4, ('ㅎ', 'NA'): 8, ('원피스', 'NNP'): 6, ('실제', 'NNG'): 4, ('돈', 'NNG'): 6, ('실', 'NNG'): 7, ('땀', 'NNG'): 32, ('바닥', 'NNG'): 18, ('이예', 'NNP'): 4, ('모양', 'NNG'): 13, ('신생아', 'NNG'): 17, ('찍찍이', 'NNP'): 14, ('색상', 'NNP'): 5, ('씨', 'NNB'): 9, ('개', 'NNB'): 12, ('곰', 'NNG'): 5, ('바느질', 'NNP'): 24, ('지금', 'NNG'): 6, ('360', 'NNP'): 4, ('여아', 'NNG'): 5, ('소개', 'NNG'): 5, ('주문', 'NNP'): 5, ('임신', 'NNP'): 9, ('코디', 'NNG'): 4, ('정도', 'NNG'): 7, ('밑창', 'NNG'): 10, ('딸', 'NNG'): 11, ('끈', 'NNG'): 4, ('ㅋ', 'NA'): 9, ('쿵스쿵스', 'NA'): 4, ('시', 'NNB'): 5, ('만큼', 'NNB'): 5, ('검색', 'NNP'): 4, ('말', 'NNG'): 6, ('손', 'NNP'): 5, ('표', 'NNG'): 5, ('ㅋㅋㅋ', 'NA'): 6, ('박스', 'NNP'): 15, ('제가', 'NNP'): 10, ('슈퍼스타', 'NNP'): 8, ('전', 'NNG'): 8, ('감사', 'NNG'): 5, ('천연', 'NNG'): 9, ('곳', 'NNG'): 4, ('발견', 'NNG'): 4, ('요즘', 'NNG'): 14, ('색깔', 'NNG'): 4, ('마켓', 'NNP'): 4, ('ㅡ', 'NA'): 4, ('미끄럼', 'NNG'): 9, ('고무', 'NNP'): 5, ('발등', 'NNG'): 8, ('완전', 'NNG'): 6, ('밑', 'NNG'): 4, ('말랑', 'NNP'): 9, ('안전', 'NNG'): 6, ('이유', 'NNG'): 4, ('ㅠㅠ', 'NA'): 7, ('세트', 'NNP'): 8, ('겨울', 'NNP'): 11, ('발도', 'NNP'): 5, ('킨더스펠', 'NA'): 56, ('부츠', 'NNP'): 22, ('요', 'NNP'): 4, ('인형', 'NNP'): 17, ('한', 'NNP'): 19, ('어른', 'NNG'): 6, ('엘츠', 'NA'): 9, ('폼', 'NNG'): 9, ('ㅋㅋㅋㅋㅋ', 'NA'): 4, ('체험', 'NNG'): 4, ('단', 'NNP'): 4, ('불편', 'NNG'): 7, ('뭐', 'NP'): 9, ('신기', 'NNG'): 4, ('슬립', 'NNP'): 8, ('온', 'NNP'): 4, ('소재', 'NNG'): 13, ('꺼', 'NNB'): 8, ('신길', 'NNP'): 5, ('앞코', 'NNG'): 4, ('용품', 'NNG'): 12, ('실내화', 'NNG'): 5, ('발사', 'NNP'): 5, ('이즈', 'NNP'): 8, ('밖', 'NNG'): 5, ('라텍스', 'NNP'): 6, ('의미', 'NNG'): 7, ('엄마', 'NNP'): 7, ('교실', 'NNP'): 7, ('크기', 'NNG'): 5, ('토', 'NNG'): 20, ('레', 'NNP'): 4, ('커플', 'NNP'): 4, ('쇼핑몰', 'NNP'): 4, ('모카신', 'NNP'): 4, ('가격', 'NNG'): 4, ('걸음', 'NNG'): 6, ('지', 'NNB'): 5, ('둘째', 'NR'): 11, ('리', 'NNP'): 6, ('색', 'NNG'): 4, ('#킨더스펠', 'NA'): 4, ('빅', 'NNG'): 5, ('우즈', 'NNP'): 5, ('귀', 'NNG'): 4, ('요미', 'NNP'): 5, ('러브', 'NNP'): 4, ('아이템', 'NNP'): 6, ('신경', 'NNG'): 4, ('이랑', 'NNP'): 5, ('깡', 'NNG'): 4, ('총', 'NNG'): 5, ('쿨썸머', 'NA'): 4, ('얼마', 'NNG'): 4, ('매장', 'NNG'): 4, ('혼자', 'NNG'): 4, ('세제', 'NNP'): 4, ('조카', 'NNP'): 6, ('공룡', 'NNP'): 5, ('아이', 'NNP'): 4, ('고급', 'NNG'): 4, ('경량', 'NNG'): 4, ('세상', 'NNG'): 4, ('명', 'NNB'): 5, ('만', 'NNB'): 4, ('다', 'NNG'): 7, ('차', 'NNB'): 4, ('송', 'NNP'): 4, ('주머니', 'NNP'): 4, ('케이크', 'NNP'): 12}\n"
     ]
    }
   ],
   "source": [
    "print(result)"
   ]
  },
  {
   "cell_type": "code",
   "execution_count": null,
   "metadata": {},
   "outputs": [],
   "source": []
  }
 ],
 "metadata": {
  "kernelspec": {
   "display_name": "crawling",
   "language": "python",
   "name": "crawling"
  },
  "language_info": {
   "codemirror_mode": {
    "name": "ipython",
    "version": 3
   },
   "file_extension": ".py",
   "mimetype": "text/x-python",
   "name": "python",
   "nbconvert_exporter": "python",
   "pygments_lexer": "ipython3",
   "version": "3.8.5"
  }
 },
 "nbformat": 4,
 "nbformat_minor": 4
}
